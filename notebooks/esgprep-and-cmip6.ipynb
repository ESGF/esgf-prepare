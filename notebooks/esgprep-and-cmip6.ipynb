{
 "cells": [
  {
   "cell_type": "markdown",
   "metadata": {
    "collapsed": true
   },
   "source": [
    "How To for CMIP6\n",
    "=========\n",
    "Install esgprep\n",
    "--------------"
   ]
  },
  {
   "cell_type": "code",
   "execution_count": 3,
   "metadata": {},
   "outputs": [
    {
     "name": "stdout",
     "output_type": "stream",
     "text": [
      "Requirement already up-to-date: esgprep in /Users/glipsl/anaconda/lib/python2.7/site-packages\n",
      "Requirement already up-to-date: netCDF4<=1.3.1,>=1.2.0 in /Users/glipsl/anaconda/lib/python2.7/site-packages (from esgprep)\n",
      "Requirement already up-to-date: tqdm>=4.11.2 in /Users/glipsl/anaconda/lib/python2.7/site-packages (from esgprep)\n",
      "Requirement already up-to-date: fuzzywuzzy>=0.15.0 in /Users/glipsl/anaconda/lib/python2.7/site-packages (from esgprep)\n",
      "Requirement already up-to-date: requests>=2.17.3 in /Users/glipsl/anaconda/lib/python2.7/site-packages (from esgprep)\n",
      "Requirement already up-to-date: hurry.filesize>=0.9 in /Users/glipsl/anaconda/lib/python2.7/site-packages (from esgprep)\n",
      "Requirement already up-to-date: lockfile>=0.12.2 in /Users/glipsl/anaconda/lib/python2.7/site-packages (from esgprep)\n",
      "Requirement already up-to-date: esgconfigparser>=0.0.2 in /Users/glipsl/anaconda/lib/python2.7/site-packages (from esgprep)\n",
      "Requirement already up-to-date: treelib<=1.4.0,>=1.3.5 in /Users/glipsl/anaconda/lib/python2.7/site-packages (from esgprep)\n",
      "Requirement already up-to-date: numpy>=1.7 in /Users/glipsl/anaconda/lib/python2.7/site-packages (from netCDF4<=1.3.1,>=1.2.0->esgprep)\n",
      "Requirement already up-to-date: chardet<3.1.0,>=3.0.2 in /Users/glipsl/anaconda/lib/python2.7/site-packages (from requests>=2.17.3->esgprep)\n",
      "Requirement already up-to-date: certifi>=2017.4.17 in /Users/glipsl/anaconda/lib/python2.7/site-packages (from requests>=2.17.3->esgprep)\n",
      "Requirement already up-to-date: urllib3<1.23,>=1.21.1 in /Users/glipsl/anaconda/lib/python2.7/site-packages (from requests>=2.17.3->esgprep)\n",
      "Requirement already up-to-date: idna<2.7,>=2.5 in /Users/glipsl/anaconda/lib/python2.7/site-packages (from requests>=2.17.3->esgprep)\n",
      "Requirement already up-to-date: setuptools in /Users/glipsl/anaconda/lib/python2.7/site-packages (from hurry.filesize>=0.9->esgprep)\n"
     ]
    }
   ],
   "source": [
    "# pip installation or upgrade\n",
    "pip install esgprep --upgrade"
   ]
  },
  {
   "cell_type": "markdown",
   "metadata": {},
   "source": [
    "Generic usage\n",
    "------------"
   ]
  },
  {
   "cell_type": "code",
   "execution_count": null,
   "metadata": {
    "collapsed": true
   },
   "outputs": [],
   "source": [
    "# Check the help\n",
    "esgprep -h\n",
    "# Check the version\n",
    "esgprep -v\n",
    "# Debug mode with high verbosity\n",
    "esgprep [SUBCOMMAND] --debug\n",
    "# Use a logfile\n",
    "esgprep [SUBCOMMAND] --log"
   ]
  },
  {
   "cell_type": "markdown",
   "metadata": {},
   "source": [
    "Retrieve the official `esg.cmip6.ini`\n",
    "-----------------------------------"
   ]
  },
  {
   "cell_type": "code",
   "execution_count": null,
   "metadata": {
    "collapsed": true
   },
   "outputs": [],
   "source": [
    "# Specify the destination folder of INI files (default is /esg/config/esgcet/)\n",
    "esgprep fetch-ini --project cmip6 -i $PWD/ini/ -o"
   ]
  },
  {
   "cell_type": "markdown",
   "metadata": {},
   "source": [
    "Apply the CMIP6 Data Refence Syntax\n",
    "----------------------------------"
   ]
  },
  {
   "cell_type": "code",
   "execution_count": null,
   "metadata": {
    "collapsed": true
   },
   "outputs": [],
   "source": [
    "# Set the version to 20180117\n",
    "# Specify the ROOT path for the DRS which don't include the project facet\n",
    "# One or more directory(ies) to recursively scan can be submitted\n",
    "# If you want to copy or hard link original files add \"--copy\" or \"--link\" respectively\n",
    "\n",
    "# List the detected publication-level datasets\n",
    "esgprep drs list -i $PWD/ini/ --project CMIP6 --version 20180117 /PATH/TO/SCAN/ --root /PATH/TO/DRS/ROOT\n",
    "\n",
    "# Display the expected DRS tree\n",
    "esgprep tree -i $PWD/ini/ --project CMIP6 --version 20180117 /PATH/TO/SCAN/ --root /PATH/TO/DRS/ROOT\n",
    "\n",
    "# Make a dry run with pending file operations\n",
    "esgprep todo -i $PWD/ini/ --project CMIP6 --version 20180117 /PATH/TO/SCAN/ --root /PATH/TO/DRS/ROOT\n",
    "\n",
    "# Make the changes to intialize or upgrade dataset versions\n",
    "esgprep upgrade -i $PWD/ini/ --project CMIP6 --version 20180117 /PATH/TO/SCAN/ --root /PATH/TO/DRS/ROOT"
   ]
  },
  {
   "cell_type": "markdown",
   "metadata": {},
   "source": [
    "Generate CMIP6 mapfiles\n",
    "-----------------------"
   ]
  },
  {
   "cell_type": "code",
   "execution_count": null,
   "metadata": {
    "collapsed": true
   },
   "outputs": [],
   "source": [
    "# Default is to pick up the latest version of each dataset, you can enforce \"--version 20180117\" if needed\n",
    "# Default is to generate one mapfile per dataset (recommended)\n",
    "esgprep mapfile -i $PWD/ini/ --project CMIP6 /PATH/TO/CMIP6/ROOT/ --outdir $PWD/mapfiles/"
   ]
  }
 ],
 "metadata": {
  "kernelspec": {
   "display_name": "Bash",
   "language": "bash",
   "name": "bash"
  },
  "language_info": {
   "codemirror_mode": "shell",
   "file_extension": ".sh",
   "mimetype": "text/x-sh",
   "name": "bash"
  }
 },
 "nbformat": 4,
 "nbformat_minor": 2
}
