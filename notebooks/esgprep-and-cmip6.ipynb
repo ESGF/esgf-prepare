{
 "cells": [
  {
   "cell_type": "markdown",
   "metadata": {
    "collapsed": true
   },
   "source": [
    "How To for CMIP6\n",
    "=========\n",
    "Install esgprep\n",
    "--------------"
   ]
  },
  {
   "cell_type": "code",
   "execution_count": null,
   "metadata": {},
   "outputs": [],
   "source": [
    "# pip installation or upgrade\n",
    "pip install esgprep --upgrade"
   ]
  },
  {
   "cell_type": "markdown",
   "metadata": {},
   "source": [
    "Generic usage\n",
    "------------"
   ]
  },
  {
   "cell_type": "code",
   "execution_count": null,
   "metadata": {
    "collapsed": true
   },
   "outputs": [],
   "source": [
    "# Check the help\n",
    "esgprep -h\n",
    "# Check the version\n",
    "esgprep -v\n",
    "# Debug mode with high verbosity\n",
    "esgprep [SUBCOMMAND] --debug\n",
    "# Use a logfile\n",
    "esgprep [SUBCOMMAND] --log"
   ]
  },
  {
   "cell_type": "markdown",
   "metadata": {},
   "source": [
    "Retrieve the official `esg.cmip6.ini`\n",
    "-----------------------------------"
   ]
  },
  {
   "cell_type": "code",
   "execution_count": null,
   "metadata": {
    "collapsed": true
   },
   "outputs": [],
   "source": [
    "# Specify the destination folder of INI files (default is /esg/config/esgcet/)\n",
    "esgprep fetch-ini --project cmip6 -i $PWD/ini/ -o"
   ]
  },
  {
   "cell_type": "markdown",
   "metadata": {},
   "source": [
    "Apply the CMIP6 Data Refence Syntax\n",
    "----------------------------------"
   ]
  },
  {
   "cell_type": "code",
   "execution_count": null,
   "metadata": {
    "collapsed": true
   },
   "outputs": [],
   "source": [
    "# Set the version to 20180117\n",
    "# Specify the ROOT path for the DRS which don't include the project facet\n",
    "# One or more directory(ies) to recursively scan can be submitted\n",
    "# If you want to copy or hard link original files add \"--copy\" or \"--link\" respectively\n",
    "\n",
    "# List the detected publication-level datasets\n",
    "esgprep drs list -i $PWD/ini/ --project CMIP6 --version 20180117 /PATH/TO/SCAN/ --root /PATH/TO/DRS/ROOT\n",
    "\n",
    "# Display the expected DRS tree\n",
    "esgprep tree -i $PWD/ini/ --project CMIP6 --version 20180117 /PATH/TO/SCAN/ --root /PATH/TO/DRS/ROOT\n",
    "\n",
    "# Make a dry run with pending file operations\n",
    "esgprep todo -i $PWD/ini/ --project CMIP6 --version 20180117 /PATH/TO/SCAN/ --root /PATH/TO/DRS/ROOT\n",
    "\n",
    "# Make the changes to intialize or upgrade dataset versions\n",
    "esgprep upgrade -i $PWD/ini/ --project CMIP6 --version 20180117 /PATH/TO/SCAN/ --root /PATH/TO/DRS/ROOT"
   ]
  },
  {
   "cell_type": "markdown",
   "metadata": {},
   "source": [
    "Generate CMIP6 mapfiles\n",
    "-----------------------"
   ]
  },
  {
   "cell_type": "code",
   "execution_count": null,
   "metadata": {
    "collapsed": true
   },
   "outputs": [],
   "source": [
    "# Default is to pick up the latest version of each dataset, you can enforce \"--version 20180117\" if needed\n",
    "# Default is to generate one mapfile per dataset (recommended)\n",
    "esgprep mapfile -i $PWD/ini/ --project CMIP6 /PATH/TO/CMIP6/ROOT/ --outdir $PWD/mapfiles/"
   ]
  }
 ],
 "metadata": {
  "kernelspec": {
   "display_name": "Bash",
   "language": "bash",
   "name": "bash"
  },
  "language_info": {
   "codemirror_mode": "shell",
   "file_extension": ".sh",
   "mimetype": "text/x-sh",
   "name": "bash"
  }
 },
 "nbformat": 4,
 "nbformat_minor": 2
}
